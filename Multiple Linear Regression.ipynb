{
 "cells": [
  {
   "cell_type": "markdown",
   "metadata": {
    "colab_type": "text",
    "id": "CazISR8X_HUG"
   },
   "source": [
    "# Multiple Linear Regression"
   ]
  },
  {
   "cell_type": "markdown",
   "metadata": {
    "colab_type": "text",
    "id": "pOyqYHTk_Q57"
   },
   "source": [
    "## Importing the libraries"
   ]
  },
  {
   "cell_type": "code",
   "execution_count": 1,
   "metadata": {
    "colab": {},
    "colab_type": "code",
    "id": "T_YHJjnD_Tja"
   },
   "outputs": [],
   "source": [
    "import numpy as np\n",
    "import matplotlib.pyplot as plt\n",
    "import pandas as pd"
   ]
  },
  {
   "cell_type": "markdown",
   "metadata": {
    "colab_type": "text",
    "id": "vgC61-ah_WIz"
   },
   "source": [
    "## Importing the dataset"
   ]
  },
  {
   "cell_type": "code",
   "execution_count": 2,
   "metadata": {
    "colab": {},
    "colab_type": "code",
    "id": "UrxyEKGn_ez7"
   },
   "outputs": [],
   "source": [
    "dataset = pd.read_csv('Real_estate.csv')\n",
    "X = dataset.iloc[:, :-1].values\n",
    "y = dataset.iloc[:, -1].values"
   ]
  },
  {
   "cell_type": "markdown",
   "metadata": {
    "colab_type": "text",
    "id": "WemVnqgeA70k"
   },
   "source": [
    "## Splitting the dataset into the Training set and Test set"
   ]
  },
  {
   "cell_type": "code",
   "execution_count": 3,
   "metadata": {
    "colab": {},
    "colab_type": "code",
    "id": "Kb_v_ae-A-20"
   },
   "outputs": [],
   "source": [
    "from sklearn.model_selection import train_test_split\n",
    "X_train, X_test, y_train, y_test = train_test_split(X, y, test_size = 0.2, random_state = 0)"
   ]
  },
  {
   "cell_type": "markdown",
   "metadata": {
    "colab_type": "text",
    "id": "k-McZVsQBINc"
   },
   "source": [
    "## Training the Multiple Linear Regression model on the Training set"
   ]
  },
  {
   "cell_type": "code",
   "execution_count": 4,
   "metadata": {
    "colab": {},
    "colab_type": "code",
    "id": "ywPjx0L1BMiD"
   },
   "outputs": [
    {
     "data": {
      "text/plain": [
       "LinearRegression()"
      ]
     },
     "execution_count": 4,
     "metadata": {},
     "output_type": "execute_result"
    }
   ],
   "source": [
    "from sklearn.linear_model import LinearRegression\n",
    "regressor = LinearRegression()\n",
    "regressor.fit(X_train, y_train)"
   ]
  },
  {
   "cell_type": "markdown",
   "metadata": {
    "colab_type": "text",
    "id": "xNkXL1YQBiBT"
   },
   "source": [
    "## Predicting the Test set results"
   ]
  },
  {
   "cell_type": "code",
   "execution_count": 5,
   "metadata": {
    "colab": {},
    "colab_type": "code",
    "id": "TQKmwvtdBkyb"
   },
   "outputs": [
    {
     "name": "stdout",
     "output_type": "stream",
     "text": [
      "[[39.58 45.3 ]\n",
      " [12.95 14.4 ]\n",
      " [41.92 46.  ]\n",
      " [12.05 15.6 ]\n",
      " [42.06 50.2 ]\n",
      " [39.29 38.1 ]\n",
      " [40.8  48.5 ]\n",
      " [34.84 41.4 ]\n",
      " [50.15 51.6 ]\n",
      " [45.58 40.1 ]\n",
      " [45.35 42.  ]\n",
      " [41.35 42.4 ]\n",
      " [38.79 28.5 ]\n",
      " [40.11 39.1 ]\n",
      " [46.53 53.7 ]\n",
      " [38.71 36.8 ]\n",
      " [39.81 40.6 ]\n",
      " [41.47 55.2 ]\n",
      " [41.76 39.3 ]\n",
      " [42.49 44.3 ]\n",
      " [49.15 53.5 ]\n",
      " [31.81 25.3 ]\n",
      " [39.16 22.8 ]\n",
      " [46.24 51.7 ]\n",
      " [46.49 45.5 ]\n",
      " [43.1  34.4 ]\n",
      " [46.32 31.6 ]\n",
      " [26.13 25.9 ]\n",
      " [47.39 49.5 ]\n",
      " [20.98 24.7 ]\n",
      " [44.04 51.7 ]\n",
      " [34.77 29.7 ]\n",
      " [43.33 45.4 ]\n",
      " [39.21 50.5 ]\n",
      " [43.69 26.5 ]\n",
      " [31.56 30.1 ]\n",
      " [47.2  46.1 ]\n",
      " [40.09 28.9 ]\n",
      " [53.16 54.4 ]\n",
      " [ 7.26 15.  ]\n",
      " [51.79 44.9 ]\n",
      " [33.81 29.8 ]\n",
      " [33.78 23.6 ]\n",
      " [48.83 48.  ]\n",
      " [14.91 16.7 ]\n",
      " [43.59 40.9 ]\n",
      " [42.41 40.2 ]\n",
      " [12.24 12.9 ]\n",
      " [34.65 21.3 ]\n",
      " [47.93 62.1 ]\n",
      " [52.68 63.9 ]\n",
      " [39.7  40.3 ]\n",
      " [48.68 42.2 ]\n",
      " [25.01 19.1 ]\n",
      " [30.95 28.4 ]\n",
      " [33.93 28.5 ]\n",
      " [48.25 60.7 ]\n",
      " [40.98 37.5 ]\n",
      " [43.38 39.3 ]\n",
      " [32.76 28.8 ]\n",
      " [43.87 42.3 ]\n",
      " [44.22 44.3 ]\n",
      " [39.79 42.6 ]\n",
      " [47.41 57.4 ]\n",
      " [37.25 42.2 ]\n",
      " [30.13 25.7 ]\n",
      " [10.41 13.2 ]\n",
      " [35.61 27.  ]\n",
      " [47.06 56.2 ]\n",
      " [40.54 38.3 ]\n",
      " [31.44 20.8 ]\n",
      " [47.11 43.1 ]\n",
      " [44.84 78.3 ]\n",
      " [30.07 20.9 ]\n",
      " [41.04 32.5 ]\n",
      " [36.11 33.4 ]\n",
      " [32.13 32.1 ]\n",
      " [13.23 19.2 ]\n",
      " [46.66 53.  ]\n",
      " [45.17 38.2 ]\n",
      " [47.71 46.7 ]\n",
      " [29.95 24.6 ]\n",
      " [43.85 36.2 ]]\n"
     ]
    }
   ],
   "source": [
    "y_pred = regressor.predict(X_test)\n",
    "np.set_printoptions(precision=2)\n",
    "print(np.concatenate((y_pred.reshape(len(y_pred),1), y_test.reshape(len(y_test),1)),1))"
   ]
  },
  {
   "cell_type": "markdown",
   "metadata": {
    "colab_type": "text",
    "id": "50DZZy0UyhLi"
   },
   "source": [
    "## Evaluating the Model Performance"
   ]
  },
  {
   "cell_type": "code",
   "execution_count": 6,
   "metadata": {
    "colab": {},
    "colab_type": "code",
    "id": "xPagAOKDywV4"
   },
   "outputs": [
    {
     "data": {
      "text/plain": [
       "0.6557366417644623"
      ]
     },
     "execution_count": 6,
     "metadata": {},
     "output_type": "execute_result"
    }
   ],
   "source": [
    "from sklearn.metrics import r2_score\n",
    "r2_score(y_test, y_pred)"
   ]
  }
 ],
 "metadata": {
  "colab": {
   "authorship_tag": "ABX9TyPKgdwz54xQOEOK5GD93nk2",
   "collapsed_sections": [],
   "name": "Copy of multiple_linear_regression.ipynb",
   "provenance": [],
   "toc_visible": true
  },
  "kernelspec": {
   "display_name": "Python 3",
   "language": "python",
   "name": "python3"
  },
  "language_info": {
   "codemirror_mode": {
    "name": "ipython",
    "version": 3
   },
   "file_extension": ".py",
   "mimetype": "text/x-python",
   "name": "python",
   "nbconvert_exporter": "python",
   "pygments_lexer": "ipython3",
   "version": "3.8.3"
  }
 },
 "nbformat": 4,
 "nbformat_minor": 4
}
