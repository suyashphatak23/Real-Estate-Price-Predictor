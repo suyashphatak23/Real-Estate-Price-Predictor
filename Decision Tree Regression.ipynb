{
 "cells": [
  {
   "cell_type": "markdown",
   "metadata": {
    "colab_type": "text",
    "id": "r3cas2_1T98w"
   },
   "source": [
    "# Decision Tree Regression"
   ]
  },
  {
   "cell_type": "markdown",
   "metadata": {
    "colab_type": "text",
    "id": "IODliia6U1xO"
   },
   "source": [
    "## Importing the libraries"
   ]
  },
  {
   "cell_type": "code",
   "execution_count": 1,
   "metadata": {
    "colab": {},
    "colab_type": "code",
    "id": "y98nA5UdU6Hf"
   },
   "outputs": [],
   "source": [
    "import numpy as np\n",
    "import matplotlib.pyplot as plt\n",
    "import pandas as pd"
   ]
  },
  {
   "cell_type": "markdown",
   "metadata": {
    "colab_type": "text",
    "id": "jpjZ43YlU8eI"
   },
   "source": [
    "## Importing the dataset"
   ]
  },
  {
   "cell_type": "code",
   "execution_count": 2,
   "metadata": {
    "colab": {},
    "colab_type": "code",
    "id": "pLVaXoYVU_Uy"
   },
   "outputs": [],
   "source": [
    "dataset = pd.read_csv('Real_estate.csv')\n",
    "X = dataset.iloc[:, :-1].values\n",
    "y = dataset.iloc[:, -1].values"
   ]
  },
  {
   "cell_type": "markdown",
   "metadata": {
    "colab_type": "text",
    "id": "tPJXMyyUJbWn"
   },
   "source": [
    "## Splitting the dataset into the Training set and Test set"
   ]
  },
  {
   "cell_type": "code",
   "execution_count": 3,
   "metadata": {
    "colab": {},
    "colab_type": "code",
    "id": "rFOzpjaiJd5B"
   },
   "outputs": [],
   "source": [
    "from sklearn.model_selection import train_test_split\n",
    "X_train, X_test, y_train, y_test = train_test_split(X, y, test_size = 0.2, random_state = 0)"
   ]
  },
  {
   "cell_type": "markdown",
   "metadata": {
    "colab_type": "text",
    "id": "g16qFkFQVC35"
   },
   "source": [
    "## Training the Decision Tree Regression model on the Training set"
   ]
  },
  {
   "cell_type": "code",
   "execution_count": 4,
   "metadata": {
    "colab": {},
    "colab_type": "code",
    "id": "SLDKyv1SVUqS"
   },
   "outputs": [
    {
     "data": {
      "text/plain": [
       "DecisionTreeRegressor(random_state=0)"
      ]
     },
     "execution_count": 4,
     "metadata": {},
     "output_type": "execute_result"
    }
   ],
   "source": [
    "from sklearn.tree import DecisionTreeRegressor\n",
    "regressor = DecisionTreeRegressor(random_state = 0)\n",
    "regressor.fit(X_train, y_train)"
   ]
  },
  {
   "cell_type": "markdown",
   "metadata": {
    "colab_type": "text",
    "id": "Nao9cdO6IgNb"
   },
   "source": [
    "## Predicting the Test set results"
   ]
  },
  {
   "cell_type": "code",
   "execution_count": 5,
   "metadata": {
    "colab": {},
    "colab_type": "code",
    "id": "EebHA3EOIkQK"
   },
   "outputs": [
    {
     "name": "stdout",
     "output_type": "stream",
     "text": [
      "[[117.5  45.3]\n",
      " [ 22.1  14.4]\n",
      " [ 40.9  46. ]\n",
      " [ 22.1  15.6]\n",
      " [ 29.3  50.2]\n",
      " [ 37.4  38.1]\n",
      " [ 41.   48.5]\n",
      " [ 54.8  41.4]\n",
      " [ 47.9  51.6]\n",
      " [ 40.6  40.1]\n",
      " [ 41.4  42. ]\n",
      " [  7.6  42.4]\n",
      " [ 37.3  28.5]\n",
      " [ 41.5  39.1]\n",
      " [ 63.2  53.7]\n",
      " [ 61.5  36.8]\n",
      " [ 34.1  40.6]\n",
      " [ 52.2  55.2]\n",
      " [ 40.5  39.3]\n",
      " [ 40.9  44.3]\n",
      " [ 56.3  53.5]\n",
      " [ 29.5  25.3]\n",
      " [ 34.1  22.8]\n",
      " [ 46.2  51.7]\n",
      " [ 55.   45.5]\n",
      " [ 48.1  34.4]\n",
      " [ 48.1  31.6]\n",
      " [ 19.   25.9]\n",
      " [ 40.5  49.5]\n",
      " [ 22.   24.7]\n",
      " [ 33.6  51.7]\n",
      " [ 23.   29.7]\n",
      " [ 50.7  45.4]\n",
      " [ 40.8  50.5]\n",
      " [ 48.1  26.5]\n",
      " [ 26.6  30.1]\n",
      " [ 48.2  46.1]\n",
      " [ 21.7  28.9]\n",
      " [ 61.9  54.4]\n",
      " [ 11.2  15. ]\n",
      " [ 50.8  44.9]\n",
      " [ 34.2  29.8]\n",
      " [ 30.7  23.6]\n",
      " [ 37.9  48. ]\n",
      " [ 18.8  16.7]\n",
      " [ 33.6  40.9]\n",
      " [ 40.8  40.2]\n",
      " [ 11.6  12.9]\n",
      " [ 22.9  21.3]\n",
      " [ 53.5  62.1]\n",
      " [ 50.   63.9]\n",
      " [ 54.8  40.3]\n",
      " [ 53.3  42.2]\n",
      " [ 19.   19.1]\n",
      " [ 28.9  28.4]\n",
      " [ 40.8  28.5]\n",
      " [ 58.8  60.7]\n",
      " [ 35.5  37.5]\n",
      " [ 41.4  39.3]\n",
      " [ 23.   28.8]\n",
      " [ 46.6  42.3]\n",
      " [ 41.   44.3]\n",
      " [ 37.4  42.6]\n",
      " [ 47.9  57.4]\n",
      " [ 39.4  42.2]\n",
      " [ 25.6  25.7]\n",
      " [ 22.6  13.2]\n",
      " [ 13.7  27. ]\n",
      " [ 57.1  56.2]\n",
      " [ 37.4  38.3]\n",
      " [ 22.3  20.8]\n",
      " [ 54.4  43.1]\n",
      " [ 41.   78.3]\n",
      " [ 27.7  20.9]\n",
      " [ 34.1  32.5]\n",
      " [ 30.7  33.4]\n",
      " [ 27.7  32.1]\n",
      " [ 11.6  19.2]\n",
      " [ 55.   53. ]\n",
      " [ 35.6  38.2]\n",
      " [ 53.3  46.7]\n",
      " [ 29.5  24.6]\n",
      " [ 37.5  36.2]]\n"
     ]
    }
   ],
   "source": [
    "y_pred = regressor.predict(X_test)\n",
    "np.set_printoptions(precision=2)\n",
    "print(np.concatenate((y_pred.reshape(len(y_pred),1), y_test.reshape(len(y_test),1)),1))"
   ]
  },
  {
   "cell_type": "markdown",
   "metadata": {
    "colab_type": "text",
    "id": "V4nELFnnIod1"
   },
   "source": [
    "## Evaluating the Model Performance"
   ]
  },
  {
   "cell_type": "code",
   "execution_count": 6,
   "metadata": {
    "colab": {},
    "colab_type": "code",
    "id": "_G2QS1UoIsTZ"
   },
   "outputs": [
    {
     "data": {
      "text/plain": [
       "0.0789246477034129"
      ]
     },
     "execution_count": 6,
     "metadata": {},
     "output_type": "execute_result"
    }
   ],
   "source": [
    "from sklearn.metrics import r2_score\n",
    "r2_score(y_test, y_pred)"
   ]
  },
  {
   "cell_type": "code",
   "execution_count": null,
   "metadata": {},
   "outputs": [],
   "source": []
  }
 ],
 "metadata": {
  "colab": {
   "authorship_tag": "ABX9TyPxmZNIwDPeKeMslsCnBzyw",
   "collapsed_sections": [],
   "name": "decision_tree_regression.ipynb",
   "provenance": [],
   "toc_visible": true
  },
  "kernelspec": {
   "display_name": "Python 3",
   "language": "python",
   "name": "python3"
  },
  "language_info": {
   "codemirror_mode": {
    "name": "ipython",
    "version": 3
   },
   "file_extension": ".py",
   "mimetype": "text/x-python",
   "name": "python",
   "nbconvert_exporter": "python",
   "pygments_lexer": "ipython3",
   "version": "3.8.3"
  }
 },
 "nbformat": 4,
 "nbformat_minor": 4
}
