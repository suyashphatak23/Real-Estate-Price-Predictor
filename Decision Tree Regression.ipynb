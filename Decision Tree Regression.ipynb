{
 "cells": [
  {
   "cell_type": "markdown",
   "metadata": {
    "colab_type": "text",
    "id": "r3cas2_1T98w"
   },
   "source": [
    "# Decision Tree Regression"
   ]
  },
  {
   "cell_type": "markdown",
   "metadata": {
    "colab_type": "text",
    "id": "IODliia6U1xO"
   },
   "source": [
    "## Importing the libraries"
   ]
  },
  {
   "cell_type": "code",
   "execution_count": 1,
   "metadata": {
    "colab": {},
    "colab_type": "code",
    "id": "y98nA5UdU6Hf"
   },
   "outputs": [],
   "source": [
    "import numpy as np\n",
    "import matplotlib.pyplot as plt\n",
    "import pandas as pd"
   ]
  },
  {
   "cell_type": "markdown",
   "metadata": {
    "colab_type": "text",
    "id": "jpjZ43YlU8eI"
   },
   "source": [
    "## Importing the dataset"
   ]
  },
  {
   "cell_type": "code",
   "execution_count": 2,
   "metadata": {
    "colab": {},
    "colab_type": "code",
    "id": "pLVaXoYVU_Uy"
   },
   "outputs": [],
   "source": [
    "dataset = pd.read_csv('Real_estate.csv')\n",
    "X = dataset.iloc[:, :-1].values\n",
    "y = dataset.iloc[:, -1].values"
   ]
  },
  {
   "cell_type": "markdown",
   "metadata": {
    "colab_type": "text",
    "id": "tPJXMyyUJbWn"
   },
   "source": [
    "## Splitting the dataset into the Training set and Test set"
   ]
  },
  {
   "cell_type": "code",
   "execution_count": 3,
   "metadata": {
    "colab": {},
    "colab_type": "code",
    "id": "rFOzpjaiJd5B"
   },
   "outputs": [],
   "source": [
    "from sklearn.model_selection import train_test_split\n",
    "X_train, X_test, y_train, y_test = train_test_split(X, y, test_size = 0.2, random_state = 0)"
   ]
  },
  {
   "cell_type": "markdown",
   "metadata": {
    "colab_type": "text",
    "id": "g16qFkFQVC35"
   },
   "source": [
    "## Training the Decision Tree Regression model on the Training set"
   ]
  },
  {
   "cell_type": "code",
   "execution_count": 4,
   "metadata": {
    "colab": {},
    "colab_type": "code",
    "id": "SLDKyv1SVUqS"
   },
   "outputs": [
    {
     "data": {
      "text/plain": [
       "DecisionTreeRegressor(random_state=0)"
      ]
     },
     "execution_count": 4,
     "metadata": {},
     "output_type": "execute_result"
    }
   ],
   "source": [
    "from sklearn.tree import DecisionTreeRegressor\n",
    "regressor = DecisionTreeRegressor(random_state = 0)\n",
    "regressor.fit(X_train, y_train)"
   ]
  },
  {
   "cell_type": "markdown",
   "metadata": {
    "colab_type": "text",
    "id": "Nao9cdO6IgNb"
   },
   "source": [
    "## Predicting the Test set results"
   ]
  },
  {
   "cell_type": "code",
   "execution_count": 5,
   "metadata": {
    "colab": {},
    "colab_type": "code",
    "id": "EebHA3EOIkQK"
   },
   "outputs": [
    {
     "name": "stdout",
     "output_type": "stream",
     "text": [
      "[[117.5  45.3]\n",
      " [ 13.4  14.4]\n",
      " [ 42.   46. ]\n",
      " [ 17.4  15.6]\n",
      " [ 29.3  50.2]\n",
      " [ 37.4  38.1]\n",
      " [ 41.   48.5]\n",
      " [ 34.6  41.4]\n",
      " [ 58.1  51.6]\n",
      " [ 40.6  40.1]\n",
      " [ 42.5  42. ]\n",
      " [  7.6  42.4]\n",
      " [ 37.3  28.5]\n",
      " [ 42.   39.1]\n",
      " [ 63.2  53.7]\n",
      " [ 61.5  36.8]\n",
      " [ 30.9  40.6]\n",
      " [ 52.2  55.2]\n",
      " [ 39.5  39.3]\n",
      " [ 40.9  44.3]\n",
      " [ 50.   53.5]\n",
      " [ 28.9  25.3]\n",
      " [ 34.1  22.8]\n",
      " [ 55.1  51.7]\n",
      " [ 57.1  45.5]\n",
      " [ 42.5  34.4]\n",
      " [ 42.   31.6]\n",
      " [ 21.5  25.9]\n",
      " [ 45.1  49.5]\n",
      " [ 22.   24.7]\n",
      " [ 33.6  51.7]\n",
      " [ 23.   29.7]\n",
      " [ 50.7  45.4]\n",
      " [ 61.5  50.5]\n",
      " [ 42.   26.5]\n",
      " [ 29.5  30.1]\n",
      " [ 48.2  46.1]\n",
      " [ 21.7  28.9]\n",
      " [ 49.8  54.4]\n",
      " [ 17.4  15. ]\n",
      " [ 50.8  44.9]\n",
      " [ 34.2  29.8]\n",
      " [ 31.3  23.6]\n",
      " [ 37.9  48. ]\n",
      " [ 19.2  16.7]\n",
      " [ 33.6  40.9]\n",
      " [ 37.5  40.2]\n",
      " [ 15.4  12.9]\n",
      " [ 22.9  21.3]\n",
      " [ 52.5  62.1]\n",
      " [ 62.2  63.9]\n",
      " [ 34.1  40.3]\n",
      " [ 53.3  42.2]\n",
      " [ 21.5  19.1]\n",
      " [ 28.9  28.4]\n",
      " [ 30.9  28.5]\n",
      " [ 55.   60.7]\n",
      " [ 41.1  37.5]\n",
      " [ 42.5  39.3]\n",
      " [ 23.   28.8]\n",
      " [ 54.8  42.3]\n",
      " [ 67.7  44.3]\n",
      " [ 42.3  42.6]\n",
      " [ 47.9  57.4]\n",
      " [ 39.4  42.2]\n",
      " [ 25.6  25.7]\n",
      " [ 15.5  13.2]\n",
      " [ 13.7  27. ]\n",
      " [ 58.8  56.2]\n",
      " [ 37.4  38.3]\n",
      " [ 22.3  20.8]\n",
      " [ 50.7  43.1]\n",
      " [ 78.   78.3]\n",
      " [ 25.6  20.9]\n",
      " [ 35.1  32.5]\n",
      " [ 30.7  33.4]\n",
      " [ 27.7  32.1]\n",
      " [ 15.6  19.2]\n",
      " [ 51.   53. ]\n",
      " [ 54.8  38.2]\n",
      " [ 51.   46.7]\n",
      " [ 26.2  24.6]\n",
      " [ 40.3  36.2]]\n"
     ]
    }
   ],
   "source": [
    "y_pred = regressor.predict(X_test)\n",
    "np.set_printoptions(precision=2)\n",
    "print(np.concatenate((y_pred.reshape(len(y_pred),1), y_test.reshape(len(y_test),1)),1))"
   ]
  },
  {
   "cell_type": "markdown",
   "metadata": {
    "colab_type": "text",
    "id": "V4nELFnnIod1"
   },
   "source": [
    "## Evaluating the Model Performance"
   ]
  },
  {
   "cell_type": "code",
   "execution_count": 7,
   "metadata": {
    "colab": {},
    "colab_type": "code",
    "id": "_G2QS1UoIsTZ"
   },
   "outputs": [
    {
     "data": {
      "text/plain": [
       "0.21076952647578062"
      ]
     },
     "execution_count": 7,
     "metadata": {},
     "output_type": "execute_result"
    }
   ],
   "source": [
    "from sklearn.metrics import r2_score\n",
    "r2_score(y_test, y_pred)"
   ]
  }
 ],
 "metadata": {
  "colab": {
   "authorship_tag": "ABX9TyPxmZNIwDPeKeMslsCnBzyw",
   "collapsed_sections": [],
   "name": "decision_tree_regression.ipynb",
   "provenance": [],
   "toc_visible": true
  },
  "kernelspec": {
   "display_name": "Python 3",
   "language": "python",
   "name": "python3"
  },
  "language_info": {
   "codemirror_mode": {
    "name": "ipython",
    "version": 3
   },
   "file_extension": ".py",
   "mimetype": "text/x-python",
   "name": "python",
   "nbconvert_exporter": "python",
   "pygments_lexer": "ipython3",
   "version": "3.8.3"
  }
 },
 "nbformat": 4,
 "nbformat_minor": 4
}
