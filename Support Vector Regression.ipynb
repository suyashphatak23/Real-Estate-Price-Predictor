{
 "cells": [
  {
   "cell_type": "markdown",
   "metadata": {
    "colab_type": "text",
    "id": "m3PAEPRDRLA3"
   },
   "source": [
    "# Support Vector Regression (SVR)"
   ]
  },
  {
   "cell_type": "markdown",
   "metadata": {
    "colab_type": "text",
    "id": "0VCUAVIjRdzZ"
   },
   "source": [
    "## Importing the libraries"
   ]
  },
  {
   "cell_type": "code",
   "execution_count": 1,
   "metadata": {
    "colab": {},
    "colab_type": "code",
    "id": "56oRF-QfSDzC"
   },
   "outputs": [],
   "source": [
    "import numpy as np\n",
    "import matplotlib.pyplot as plt\n",
    "import pandas as pd"
   ]
  },
  {
   "cell_type": "markdown",
   "metadata": {
    "colab_type": "text",
    "id": "fXVXoFWtSF4_"
   },
   "source": [
    "## Importing the dataset"
   ]
  },
  {
   "cell_type": "code",
   "execution_count": 2,
   "metadata": {
    "colab": {},
    "colab_type": "code",
    "id": "xfoa8OSORfHQ"
   },
   "outputs": [],
   "source": [
    "dataset = pd.read_csv('Real_estate.csv')\n",
    "X = dataset.iloc[:, :-1].values\n",
    "y = dataset.iloc[:, -1].values"
   ]
  },
  {
   "cell_type": "code",
   "execution_count": 3,
   "metadata": {
    "colab": {},
    "colab_type": "code",
    "id": "_8Ny1GfPiV3m"
   },
   "outputs": [],
   "source": [
    "y = y.reshape(len(y),1)"
   ]
  },
  {
   "cell_type": "markdown",
   "metadata": {
    "colab_type": "text",
    "id": "6Vk3nNlrCVCN"
   },
   "source": [
    "## Splitting the dataset into the Training set and Test set"
   ]
  },
  {
   "cell_type": "code",
   "execution_count": 4,
   "metadata": {
    "colab": {},
    "colab_type": "code",
    "id": "x_fXqrziCV3_"
   },
   "outputs": [],
   "source": [
    "from sklearn.model_selection import train_test_split\n",
    "X_train, X_test, y_train, y_test = train_test_split(X, y, test_size = 0.2, random_state = 0)"
   ]
  },
  {
   "cell_type": "markdown",
   "metadata": {
    "colab_type": "text",
    "id": "YS8FeLHYS-nI"
   },
   "source": [
    "## Feature Scaling"
   ]
  },
  {
   "cell_type": "code",
   "execution_count": 5,
   "metadata": {
    "colab": {},
    "colab_type": "code",
    "id": "PGeAlD1HTDI1"
   },
   "outputs": [],
   "source": [
    "from sklearn.preprocessing import StandardScaler\n",
    "sc_X = StandardScaler()\n",
    "sc_y = StandardScaler()\n",
    "X_train = sc_X.fit_transform(X_train)\n",
    "y_train = sc_y.fit_transform(y_train)"
   ]
  },
  {
   "cell_type": "markdown",
   "metadata": {
    "colab_type": "text",
    "id": "eiU6D2QFRjxY"
   },
   "source": [
    "## Training the SVR model on the Training set"
   ]
  },
  {
   "cell_type": "code",
   "execution_count": 6,
   "metadata": {
    "colab": {},
    "colab_type": "code",
    "id": "y6R4rt_GRz15"
   },
   "outputs": [
    {
     "name": "stderr",
     "output_type": "stream",
     "text": [
      "D:\\Anaconda\\lib\\site-packages\\sklearn\\utils\\validation.py:73: DataConversionWarning: A column-vector y was passed when a 1d array was expected. Please change the shape of y to (n_samples, ), for example using ravel().\n",
      "  return f(**kwargs)\n"
     ]
    },
    {
     "data": {
      "text/plain": [
       "SVR()"
      ]
     },
     "execution_count": 6,
     "metadata": {},
     "output_type": "execute_result"
    }
   ],
   "source": [
    "from sklearn.svm import SVR\n",
    "regressor = SVR(kernel = 'rbf')\n",
    "regressor.fit(X_train, y_train)"
   ]
  },
  {
   "cell_type": "markdown",
   "metadata": {
    "colab_type": "text",
    "id": "aPYA5W1pDBOE"
   },
   "source": [
    "## Predicting the Test set results"
   ]
  },
  {
   "cell_type": "code",
   "execution_count": 7,
   "metadata": {
    "colab": {},
    "colab_type": "code",
    "id": "vSqFVDYrDROW"
   },
   "outputs": [
    {
     "name": "stdout",
     "output_type": "stream",
     "text": [
      "[[40.88 45.3 ]\n",
      " [15.23 14.4 ]\n",
      " [39.87 46.  ]\n",
      " [16.25 15.6 ]\n",
      " [40.32 50.2 ]\n",
      " [39.1  38.1 ]\n",
      " [40.64 48.5 ]\n",
      " [35.21 41.4 ]\n",
      " [53.63 51.6 ]\n",
      " [43.59 40.1 ]\n",
      " [44.44 42.  ]\n",
      " [37.87 42.4 ]\n",
      " [40.88 28.5 ]\n",
      " [40.84 39.1 ]\n",
      " [47.28 53.7 ]\n",
      " [37.12 36.8 ]\n",
      " [38.46 40.6 ]\n",
      " [43.89 55.2 ]\n",
      " [41.04 39.3 ]\n",
      " [41.7  44.3 ]\n",
      " [51.5  53.5 ]\n",
      " [28.57 25.3 ]\n",
      " [34.17 22.8 ]\n",
      " [49.37 51.7 ]\n",
      " [53.89 45.5 ]\n",
      " [43.3  34.4 ]\n",
      " [44.48 31.6 ]\n",
      " [23.84 25.9 ]\n",
      " [44.96 49.5 ]\n",
      " [22.93 24.7 ]\n",
      " [39.91 51.7 ]\n",
      " [25.61 29.7 ]\n",
      " [48.32 45.4 ]\n",
      " [37.95 50.5 ]\n",
      " [43.89 26.5 ]\n",
      " [25.32 30.1 ]\n",
      " [43.9  46.1 ]\n",
      " [31.94 28.9 ]\n",
      " [53.2  54.4 ]\n",
      " [11.73 15.  ]\n",
      " [48.4  44.9 ]\n",
      " [36.88 29.8 ]\n",
      " [29.28 23.6 ]\n",
      " [43.15 48.  ]\n",
      " [17.25 16.7 ]\n",
      " [41.77 40.9 ]\n",
      " [39.61 40.2 ]\n",
      " [17.82 12.9 ]\n",
      " [26.1  21.3 ]\n",
      " [45.98 62.1 ]\n",
      " [48.36 63.9 ]\n",
      " [34.55 40.3 ]\n",
      " [43.63 42.2 ]\n",
      " [19.09 19.1 ]\n",
      " [26.6  28.4 ]\n",
      " [35.08 28.5 ]\n",
      " [45.97 60.7 ]\n",
      " [38.77 37.5 ]\n",
      " [46.19 39.3 ]\n",
      " [25.66 28.8 ]\n",
      " [37.6  42.3 ]\n",
      " [39.23 44.3 ]\n",
      " [39.15 42.6 ]\n",
      " [54.49 57.4 ]\n",
      " [39.55 42.2 ]\n",
      " [21.62 25.7 ]\n",
      " [21.07 13.2 ]\n",
      " [25.9  27.  ]\n",
      " [58.18 56.2 ]\n",
      " [37.19 38.3 ]\n",
      " [25.96 20.8 ]\n",
      " [56.03 43.1 ]\n",
      " [42.12 78.3 ]\n",
      " [28.41 20.9 ]\n",
      " [39.4  32.5 ]\n",
      " [29.04 33.4 ]\n",
      " [26.98 32.1 ]\n",
      " [12.04 19.2 ]\n",
      " [44.54 53.  ]\n",
      " [36.91 38.2 ]\n",
      " [44.94 46.7 ]\n",
      " [27.53 24.6 ]\n",
      " [37.74 36.2 ]]\n"
     ]
    }
   ],
   "source": [
    "y_pred = sc_y.inverse_transform(regressor.predict(sc_X.transform(X_test)))\n",
    "np.set_printoptions(precision=2)\n",
    "print(np.concatenate((y_pred.reshape(len(y_pred),1), y_test.reshape(len(y_test),1)),1))"
   ]
  },
  {
   "cell_type": "markdown",
   "metadata": {
    "colab_type": "text",
    "id": "CMsYlps2DX1d"
   },
   "source": [
    "## Evaluating the Model Performance"
   ]
  },
  {
   "cell_type": "code",
   "execution_count": 8,
   "metadata": {
    "colab": {},
    "colab_type": "code",
    "id": "HxsRWlURDr6S"
   },
   "outputs": [
    {
     "data": {
      "text/plain": [
       "0.6683366394736905"
      ]
     },
     "execution_count": 8,
     "metadata": {},
     "output_type": "execute_result"
    }
   ],
   "source": [
    "from sklearn.metrics import r2_score\n",
    "r2_score(y_test, y_pred)"
   ]
  }
 ],
 "metadata": {
  "colab": {
   "authorship_tag": "ABX9TyN8qV84hNS/iSS/DanHSlLM",
   "collapsed_sections": [],
   "name": "Copy of support_vector_regression.ipynb",
   "provenance": [],
   "toc_visible": true
  },
  "kernelspec": {
   "display_name": "Python 3",
   "language": "python",
   "name": "python3"
  },
  "language_info": {
   "codemirror_mode": {
    "name": "ipython",
    "version": 3
   },
   "file_extension": ".py",
   "mimetype": "text/x-python",
   "name": "python",
   "nbconvert_exporter": "python",
   "pygments_lexer": "ipython3",
   "version": "3.8.3"
  }
 },
 "nbformat": 4,
 "nbformat_minor": 4
}
