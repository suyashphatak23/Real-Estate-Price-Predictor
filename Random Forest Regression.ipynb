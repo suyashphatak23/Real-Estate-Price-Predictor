{
 "cells": [
  {
   "cell_type": "markdown",
   "metadata": {
    "colab_type": "text",
    "id": "LeamvpPVXuS_"
   },
   "source": [
    "# Random Forest Regression"
   ]
  },
  {
   "cell_type": "markdown",
   "metadata": {
    "colab_type": "text",
    "id": "O2wvZ7SKXzVC"
   },
   "source": [
    "## Importing the libraries"
   ]
  },
  {
   "cell_type": "code",
   "execution_count": 1,
   "metadata": {
    "colab": {},
    "colab_type": "code",
    "id": "PVmESEFZX4Ig"
   },
   "outputs": [],
   "source": [
    "import numpy as np\n",
    "import matplotlib.pyplot as plt\n",
    "import pandas as pd"
   ]
  },
  {
   "cell_type": "markdown",
   "metadata": {
    "colab_type": "text",
    "id": "zgbK_F8-X7em"
   },
   "source": [
    "## Importing the dataset"
   ]
  },
  {
   "cell_type": "code",
   "execution_count": 2,
   "metadata": {
    "colab": {},
    "colab_type": "code",
    "id": "adBE4tjQX_Bh"
   },
   "outputs": [],
   "source": [
    "dataset = pd.read_csv('Real_estate.csv')\n",
    "X = dataset.iloc[:, :-1].values\n",
    "y = dataset.iloc[:, -1].values"
   ]
  },
  {
   "cell_type": "markdown",
   "metadata": {
    "colab_type": "text",
    "id": "ptNjcy7bOBlD"
   },
   "source": [
    "## Splitting the dataset into the Training set and Test set"
   ]
  },
  {
   "cell_type": "code",
   "execution_count": 3,
   "metadata": {
    "colab": {},
    "colab_type": "code",
    "id": "C7NdofoCOFQF"
   },
   "outputs": [],
   "source": [
    "from sklearn.model_selection import train_test_split\n",
    "X_train, X_test, y_train, y_test = train_test_split(X, y, test_size = 0.2, random_state = 0)"
   ]
  },
  {
   "cell_type": "markdown",
   "metadata": {
    "colab_type": "text",
    "id": "v4S2fyIBYDcu"
   },
   "source": [
    "## Training the Random Forest Regression model on the whole dataset"
   ]
  },
  {
   "cell_type": "code",
   "execution_count": 4,
   "metadata": {
    "colab": {},
    "colab_type": "code",
    "id": "o8dOCoJ1YKMc"
   },
   "outputs": [
    {
     "data": {
      "text/plain": [
       "RandomForestRegressor(n_estimators=10, random_state=0)"
      ]
     },
     "execution_count": 4,
     "metadata": {},
     "output_type": "execute_result"
    }
   ],
   "source": [
    "from sklearn.ensemble import RandomForestRegressor\n",
    "regressor = RandomForestRegressor(n_estimators = 10, random_state = 0)\n",
    "regressor.fit(X_train, y_train)"
   ]
  },
  {
   "cell_type": "markdown",
   "metadata": {
    "colab_type": "text",
    "id": "DM_jh0frOPKE"
   },
   "source": [
    "## Predicting the Test set results"
   ]
  },
  {
   "cell_type": "code",
   "execution_count": 5,
   "metadata": {
    "colab": {},
    "colab_type": "code",
    "id": "JGa9ZfM4OTNw"
   },
   "outputs": [
    {
     "name": "stdout",
     "output_type": "stream",
     "text": [
      "[[77.81 45.3 ]\n",
      " [15.76 14.4 ]\n",
      " [54.29 46.  ]\n",
      " [17.33 15.6 ]\n",
      " [35.64 50.2 ]\n",
      " [37.6  38.1 ]\n",
      " [44.59 48.5 ]\n",
      " [37.94 41.4 ]\n",
      " [55.82 51.6 ]\n",
      " [43.64 40.1 ]\n",
      " [41.28 42.  ]\n",
      " [18.35 42.4 ]\n",
      " [35.16 28.5 ]\n",
      " [42.32 39.1 ]\n",
      " [55.57 53.7 ]\n",
      " [49.48 36.8 ]\n",
      " [37.21 40.6 ]\n",
      " [48.9  55.2 ]\n",
      " [43.44 39.3 ]\n",
      " [44.28 44.3 ]\n",
      " [51.47 53.5 ]\n",
      " [27.66 25.3 ]\n",
      " [36.22 22.8 ]\n",
      " [47.65 51.7 ]\n",
      " [54.58 45.5 ]\n",
      " [42.49 34.4 ]\n",
      " [43.03 31.6 ]\n",
      " [22.41 25.9 ]\n",
      " [51.54 49.5 ]\n",
      " [25.25 24.7 ]\n",
      " [49.03 51.7 ]\n",
      " [30.78 29.7 ]\n",
      " [48.61 45.4 ]\n",
      " [47.07 50.5 ]\n",
      " [42.6  26.5 ]\n",
      " [28.54 30.1 ]\n",
      " [48.78 46.1 ]\n",
      " [26.28 28.9 ]\n",
      " [53.19 54.4 ]\n",
      " [13.71 15.  ]\n",
      " [47.68 44.9 ]\n",
      " [35.41 29.8 ]\n",
      " [29.22 23.6 ]\n",
      " [49.36 48.  ]\n",
      " [16.42 16.7 ]\n",
      " [40.97 40.9 ]\n",
      " [40.25 40.2 ]\n",
      " [16.73 12.9 ]\n",
      " [24.96 21.3 ]\n",
      " [51.19 62.1 ]\n",
      " [54.71 63.9 ]\n",
      " [35.97 40.3 ]\n",
      " [48.67 42.2 ]\n",
      " [15.97 19.1 ]\n",
      " [27.28 28.4 ]\n",
      " [34.42 28.5 ]\n",
      " [53.08 60.7 ]\n",
      " [38.3  37.5 ]\n",
      " [39.63 39.3 ]\n",
      " [29.18 28.8 ]\n",
      " [42.59 42.3 ]\n",
      " [55.25 44.3 ]\n",
      " [40.25 42.6 ]\n",
      " [56.05 57.4 ]\n",
      " [44.03 42.2 ]\n",
      " [25.1  25.7 ]\n",
      " [15.34 13.2 ]\n",
      " [19.85 27.  ]\n",
      " [57.37 56.2 ]\n",
      " [39.43 38.3 ]\n",
      " [24.42 20.8 ]\n",
      " [54.63 43.1 ]\n",
      " [44.08 78.3 ]\n",
      " [26.96 20.9 ]\n",
      " [39.04 32.5 ]\n",
      " [29.4  33.4 ]\n",
      " [27.85 32.1 ]\n",
      " [16.59 19.2 ]\n",
      " [50.66 53.  ]\n",
      " [40.25 38.2 ]\n",
      " [48.92 46.7 ]\n",
      " [27.35 24.6 ]\n",
      " [39.35 36.2 ]]\n"
     ]
    }
   ],
   "source": [
    "y_pred = regressor.predict(X_test)\n",
    "np.set_printoptions(precision=2)\n",
    "print(np.concatenate((y_pred.reshape(len(y_pred),1), y_test.reshape(len(y_test),1)),1))"
   ]
  },
  {
   "cell_type": "markdown",
   "metadata": {
    "colab_type": "text",
    "id": "Cd8VZM5POWXN"
   },
   "source": [
    "## Evaluating the Model Performance"
   ]
  },
  {
   "cell_type": "code",
   "execution_count": 6,
   "metadata": {
    "colab": {},
    "colab_type": "code",
    "id": "a7y1rXlfOZJo"
   },
   "outputs": [
    {
     "data": {
      "text/plain": [
       "0.6389024572282171"
      ]
     },
     "execution_count": 6,
     "metadata": {},
     "output_type": "execute_result"
    }
   ],
   "source": [
    "from sklearn.metrics import r2_score\n",
    "r2_score(y_test, y_pred)"
   ]
  }
 ],
 "metadata": {
  "colab": {
   "authorship_tag": "ABX9TyPkqeojsYLl5XoVP7LACyMP",
   "collapsed_sections": [],
   "name": "random_forest_regression.ipynb",
   "provenance": [],
   "toc_visible": true
  },
  "kernelspec": {
   "display_name": "Python 3",
   "language": "python",
   "name": "python3"
  },
  "language_info": {
   "codemirror_mode": {
    "name": "ipython",
    "version": 3
   },
   "file_extension": ".py",
   "mimetype": "text/x-python",
   "name": "python",
   "nbconvert_exporter": "python",
   "pygments_lexer": "ipython3",
   "version": "3.8.3"
  }
 },
 "nbformat": 4,
 "nbformat_minor": 4
}
