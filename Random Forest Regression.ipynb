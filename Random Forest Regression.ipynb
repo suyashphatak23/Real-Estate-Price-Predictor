{
 "cells": [
  {
   "cell_type": "markdown",
   "metadata": {
    "colab_type": "text",
    "id": "LeamvpPVXuS_"
   },
   "source": [
    "# Random Forest Regression"
   ]
  },
  {
   "cell_type": "markdown",
   "metadata": {
    "colab_type": "text",
    "id": "O2wvZ7SKXzVC"
   },
   "source": [
    "## Importing the libraries"
   ]
  },
  {
   "cell_type": "code",
   "execution_count": 1,
   "metadata": {
    "colab": {},
    "colab_type": "code",
    "id": "PVmESEFZX4Ig"
   },
   "outputs": [],
   "source": [
    "import numpy as np\n",
    "import matplotlib.pyplot as plt\n",
    "import pandas as pd"
   ]
  },
  {
   "cell_type": "markdown",
   "metadata": {
    "colab_type": "text",
    "id": "zgbK_F8-X7em"
   },
   "source": [
    "## Importing the dataset"
   ]
  },
  {
   "cell_type": "code",
   "execution_count": 2,
   "metadata": {
    "colab": {},
    "colab_type": "code",
    "id": "adBE4tjQX_Bh"
   },
   "outputs": [],
   "source": [
    "dataset = pd.read_csv('Real_estate.csv')\n",
    "X = dataset.iloc[:, :-1].values\n",
    "y = dataset.iloc[:, -1].values"
   ]
  },
  {
   "cell_type": "markdown",
   "metadata": {
    "colab_type": "text",
    "id": "ptNjcy7bOBlD"
   },
   "source": [
    "## Splitting the dataset into the Training set and Test set"
   ]
  },
  {
   "cell_type": "code",
   "execution_count": 3,
   "metadata": {
    "colab": {},
    "colab_type": "code",
    "id": "C7NdofoCOFQF"
   },
   "outputs": [],
   "source": [
    "from sklearn.model_selection import train_test_split\n",
    "X_train, X_test, y_train, y_test = train_test_split(X, y, test_size = 0.2, random_state = 0)"
   ]
  },
  {
   "cell_type": "markdown",
   "metadata": {
    "colab_type": "text",
    "id": "v4S2fyIBYDcu"
   },
   "source": [
    "## Training the Random Forest Regression model on the whole dataset"
   ]
  },
  {
   "cell_type": "code",
   "execution_count": 4,
   "metadata": {
    "colab": {},
    "colab_type": "code",
    "id": "o8dOCoJ1YKMc"
   },
   "outputs": [
    {
     "data": {
      "text/plain": [
       "RandomForestRegressor(n_estimators=10, random_state=0)"
      ]
     },
     "execution_count": 4,
     "metadata": {},
     "output_type": "execute_result"
    }
   ],
   "source": [
    "from sklearn.ensemble import RandomForestRegressor\n",
    "regressor = RandomForestRegressor(n_estimators = 10, random_state = 0)\n",
    "regressor.fit(X_train, y_train)"
   ]
  },
  {
   "cell_type": "markdown",
   "metadata": {
    "colab_type": "text",
    "id": "DM_jh0frOPKE"
   },
   "source": [
    "## Predicting the Test set results"
   ]
  },
  {
   "cell_type": "code",
   "execution_count": 5,
   "metadata": {
    "colab": {},
    "colab_type": "code",
    "id": "JGa9ZfM4OTNw"
   },
   "outputs": [
    {
     "name": "stdout",
     "output_type": "stream",
     "text": [
      "[[78.08 45.3 ]\n",
      " [17.05 14.4 ]\n",
      " [51.6  46.  ]\n",
      " [17.45 15.6 ]\n",
      " [31.6  50.2 ]\n",
      " [35.03 38.1 ]\n",
      " [43.99 48.5 ]\n",
      " [33.95 41.4 ]\n",
      " [54.64 51.6 ]\n",
      " [43.34 40.1 ]\n",
      " [40.12 42.  ]\n",
      " [16.58 42.4 ]\n",
      " [35.14 28.5 ]\n",
      " [41.91 39.1 ]\n",
      " [56.24 53.7 ]\n",
      " [38.47 36.8 ]\n",
      " [35.92 40.6 ]\n",
      " [49.23 55.2 ]\n",
      " [44.43 39.3 ]\n",
      " [44.23 44.3 ]\n",
      " [54.33 53.5 ]\n",
      " [28.85 25.3 ]\n",
      " [35.73 22.8 ]\n",
      " [46.68 51.7 ]\n",
      " [51.76 45.5 ]\n",
      " [44.17 34.4 ]\n",
      " [44.58 31.6 ]\n",
      " [23.54 25.9 ]\n",
      " [50.24 49.5 ]\n",
      " [25.88 24.7 ]\n",
      " [49.31 51.7 ]\n",
      " [28.2  29.7 ]\n",
      " [48.49 45.4 ]\n",
      " [38.66 50.5 ]\n",
      " [43.83 26.5 ]\n",
      " [28.33 30.1 ]\n",
      " [48.62 46.1 ]\n",
      " [25.11 28.9 ]\n",
      " [51.75 54.4 ]\n",
      " [14.25 15.  ]\n",
      " [46.39 44.9 ]\n",
      " [33.48 29.8 ]\n",
      " [28.97 23.6 ]\n",
      " [48.12 48.  ]\n",
      " [16.48 16.7 ]\n",
      " [41.88 40.9 ]\n",
      " [40.63 40.2 ]\n",
      " [15.46 12.9 ]\n",
      " [25.48 21.3 ]\n",
      " [53.26 62.1 ]\n",
      " [54.93 63.9 ]\n",
      " [42.01 40.3 ]\n",
      " [50.49 42.2 ]\n",
      " [17.15 19.1 ]\n",
      " [27.75 28.4 ]\n",
      " [36.36 28.5 ]\n",
      " [51.95 60.7 ]\n",
      " [38.25 37.5 ]\n",
      " [40.38 39.3 ]\n",
      " [28.27 28.8 ]\n",
      " [36.63 42.3 ]\n",
      " [58.13 44.3 ]\n",
      " [39.27 42.6 ]\n",
      " [55.59 57.4 ]\n",
      " [41.53 42.2 ]\n",
      " [26.   25.7 ]\n",
      " [19.59 13.2 ]\n",
      " [18.29 27.  ]\n",
      " [55.97 56.2 ]\n",
      " [36.9  38.3 ]\n",
      " [24.67 20.8 ]\n",
      " [53.37 43.1 ]\n",
      " [52.33 78.3 ]\n",
      " [27.46 20.9 ]\n",
      " [39.47 32.5 ]\n",
      " [29.27 33.4 ]\n",
      " [27.71 32.1 ]\n",
      " [16.53 19.2 ]\n",
      " [52.13 53.  ]\n",
      " [39.67 38.2 ]\n",
      " [48.94 46.7 ]\n",
      " [27.85 24.6 ]\n",
      " [37.3  36.2 ]]\n"
     ]
    }
   ],
   "source": [
    "y_pred = regressor.predict(X_test)\n",
    "np.set_printoptions(precision=2)\n",
    "print(np.concatenate((y_pred.reshape(len(y_pred),1), y_test.reshape(len(y_test),1)),1))"
   ]
  },
  {
   "cell_type": "markdown",
   "metadata": {
    "colab_type": "text",
    "id": "Cd8VZM5POWXN"
   },
   "source": [
    "## Evaluating the Model Performance"
   ]
  },
  {
   "cell_type": "code",
   "execution_count": 6,
   "metadata": {
    "colab": {},
    "colab_type": "code",
    "id": "a7y1rXlfOZJo"
   },
   "outputs": [
    {
     "data": {
      "text/plain": [
       "0.6434956678122618"
      ]
     },
     "execution_count": 6,
     "metadata": {},
     "output_type": "execute_result"
    }
   ],
   "source": [
    "from sklearn.metrics import r2_score\n",
    "r2_score(y_test, y_pred)"
   ]
  },
  {
   "cell_type": "code",
   "execution_count": null,
   "metadata": {},
   "outputs": [],
   "source": []
  }
 ],
 "metadata": {
  "colab": {
   "authorship_tag": "ABX9TyPkqeojsYLl5XoVP7LACyMP",
   "collapsed_sections": [],
   "name": "random_forest_regression.ipynb",
   "provenance": [],
   "toc_visible": true
  },
  "kernelspec": {
   "display_name": "Python 3",
   "language": "python",
   "name": "python3"
  },
  "language_info": {
   "codemirror_mode": {
    "name": "ipython",
    "version": 3
   },
   "file_extension": ".py",
   "mimetype": "text/x-python",
   "name": "python",
   "nbconvert_exporter": "python",
   "pygments_lexer": "ipython3",
   "version": "3.8.3"
  }
 },
 "nbformat": 4,
 "nbformat_minor": 4
}
