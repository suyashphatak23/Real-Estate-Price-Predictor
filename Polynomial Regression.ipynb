{
 "cells": [
  {
   "cell_type": "markdown",
   "metadata": {
    "colab_type": "text",
    "id": "vN99YjPTDena"
   },
   "source": [
    "# Polynomial Regression"
   ]
  },
  {
   "cell_type": "markdown",
   "metadata": {
    "colab_type": "text",
    "id": "ZIx_naXnDyHd"
   },
   "source": [
    "## Importing the libraries"
   ]
  },
  {
   "cell_type": "code",
   "execution_count": 1,
   "metadata": {
    "colab": {},
    "colab_type": "code",
    "id": "FjnmdyPLD2tS"
   },
   "outputs": [],
   "source": [
    "import numpy as np\n",
    "import matplotlib.pyplot as plt\n",
    "import pandas as pd"
   ]
  },
  {
   "cell_type": "markdown",
   "metadata": {
    "colab_type": "text",
    "id": "6c8YExmOD5x5"
   },
   "source": [
    "## Importing the dataset"
   ]
  },
  {
   "cell_type": "code",
   "execution_count": 2,
   "metadata": {
    "colab": {},
    "colab_type": "code",
    "id": "nQOdXhjXD_AE"
   },
   "outputs": [],
   "source": [
    "dataset = pd.read_csv('Real_estate.csv')\n",
    "X = dataset.iloc[:, :-1].values\n",
    "y = dataset.iloc[:, -1].values"
   ]
  },
  {
   "cell_type": "markdown",
   "metadata": {
    "colab_type": "text",
    "id": "Ud_1XTb28iXH"
   },
   "source": [
    "## Splitting the dataset into the Training set and Test set"
   ]
  },
  {
   "cell_type": "code",
   "execution_count": 3,
   "metadata": {
    "colab": {},
    "colab_type": "code",
    "id": "bUib_pbl8ipB"
   },
   "outputs": [],
   "source": [
    "from sklearn.model_selection import train_test_split\n",
    "X_train, X_test, y_train, y_test = train_test_split(X, y, test_size = 0.2, random_state = 0)"
   ]
  },
  {
   "cell_type": "markdown",
   "metadata": {
    "colab_type": "text",
    "id": "Rb5nWuSHEfBV"
   },
   "source": [
    "## Training the Polynomial Regression model on the Training set"
   ]
  },
  {
   "cell_type": "code",
   "execution_count": 4,
   "metadata": {
    "colab": {},
    "colab_type": "code",
    "id": "HYplp4pTEm0O"
   },
   "outputs": [
    {
     "data": {
      "text/plain": [
       "LinearRegression()"
      ]
     },
     "execution_count": 4,
     "metadata": {},
     "output_type": "execute_result"
    }
   ],
   "source": [
    "from sklearn.preprocessing import PolynomialFeatures\n",
    "from sklearn.linear_model import LinearRegression\n",
    "poly_reg = PolynomialFeatures(degree = 4)\n",
    "X_poly = poly_reg.fit_transform(X_train)\n",
    "regressor = LinearRegression()\n",
    "regressor.fit(X_poly, y_train)"
   ]
  },
  {
   "cell_type": "markdown",
   "metadata": {
    "colab_type": "text",
    "id": "pzF3BRps9nlk"
   },
   "source": [
    "## Predicting the Test set results"
   ]
  },
  {
   "cell_type": "code",
   "execution_count": 5,
   "metadata": {
    "colab": {},
    "colab_type": "code",
    "id": "36aFLFBK9pMk"
   },
   "outputs": [
    {
     "name": "stdout",
     "output_type": "stream",
     "text": [
      "[[  47.16   45.3 ]\n",
      " [  22.91   14.4 ]\n",
      " [  49.09   46.  ]\n",
      " [  77.25   15.6 ]\n",
      " [  60.66   50.2 ]\n",
      " [  22.35   38.1 ]\n",
      " [  45.21   48.5 ]\n",
      " [  24.41   41.4 ]\n",
      " [  47.39   51.6 ]\n",
      " [  51.19   40.1 ]\n",
      " [  31.44   42.  ]\n",
      " [  25.6    42.4 ]\n",
      " [  47.81   28.5 ]\n",
      " [  35.8    39.1 ]\n",
      " [  62.06   53.7 ]\n",
      " [  67.05   36.8 ]\n",
      " [  40.9    40.6 ]\n",
      " [  51.32   55.2 ]\n",
      " [  11.     39.3 ]\n",
      " [  38.63   44.3 ]\n",
      " [  45.14   53.5 ]\n",
      " [  16.94   25.3 ]\n",
      " [  59.69   22.8 ]\n",
      " [  50.24   51.7 ]\n",
      " [  39.42   45.5 ]\n",
      " [  32.68   34.4 ]\n",
      " [  42.65   31.6 ]\n",
      " [   5.48   25.9 ]\n",
      " [  59.44   49.5 ]\n",
      " [ -74.06   24.7 ]\n",
      " [  59.38   51.7 ]\n",
      " [  12.8    29.7 ]\n",
      " [  44.89   45.4 ]\n",
      " [  62.95   50.5 ]\n",
      " [  26.58   26.5 ]\n",
      " [  40.4    30.1 ]\n",
      " [  74.96   46.1 ]\n",
      " [   1.01   28.9 ]\n",
      " [  23.08   54.4 ]\n",
      " [-329.69   15.  ]\n",
      " [  29.61   44.9 ]\n",
      " [  19.46   29.8 ]\n",
      " [  36.59   23.6 ]\n",
      " [  46.25   48.  ]\n",
      " [  12.49   16.7 ]\n",
      " [  48.56   40.9 ]\n",
      " [  33.     40.2 ]\n",
      " [  -7.47   12.9 ]\n",
      " [  10.92   21.3 ]\n",
      " [  55.04   62.1 ]\n",
      " [  30.97   63.9 ]\n",
      " [  17.25   40.3 ]\n",
      " [  32.9    42.2 ]\n",
      " [   9.47   19.1 ]\n",
      " [  41.97   28.4 ]\n",
      " [  33.86   28.5 ]\n",
      " [  64.33   60.7 ]\n",
      " [  46.98   37.5 ]\n",
      " [  35.73   39.3 ]\n",
      " [  23.16   28.8 ]\n",
      " [  32.74   42.3 ]\n",
      " [  27.16   44.3 ]\n",
      " [  27.36   42.6 ]\n",
      " [  51.44   57.4 ]\n",
      " [  38.56   42.2 ]\n",
      " [  27.02   25.7 ]\n",
      " [   7.35   13.2 ]\n",
      " [  20.02   27.  ]\n",
      " [  51.47   56.2 ]\n",
      " [ -13.55   38.3 ]\n",
      " [  59.18   20.8 ]\n",
      " [  48.09   43.1 ]\n",
      " [  48.35   78.3 ]\n",
      " [  25.56   20.9 ]\n",
      " [  41.2    32.5 ]\n",
      " [  35.76   33.4 ]\n",
      " [   1.38   32.1 ]\n",
      " [   9.81   19.2 ]\n",
      " [  52.38   53.  ]\n",
      " [  16.7    38.2 ]\n",
      " [  56.26   46.7 ]\n",
      " [   4.37   24.6 ]\n",
      " [  57.22   36.2 ]]\n"
     ]
    }
   ],
   "source": [
    "y_pred = regressor.predict(poly_reg.transform(X_test))\n",
    "np.set_printoptions(precision=2)\n",
    "print(np.concatenate((y_pred.reshape(len(y_pred),1), y_test.reshape(len(y_test),1)),1))"
   ]
  },
  {
   "cell_type": "markdown",
   "metadata": {
    "colab_type": "text",
    "id": "Fz1uTlWV919-"
   },
   "source": [
    "## Evaluating the Model Performance"
   ]
  },
  {
   "cell_type": "code",
   "execution_count": 8,
   "metadata": {
    "colab": {},
    "colab_type": "code",
    "id": "xvZQ_4W893-e"
   },
   "outputs": [
    {
     "data": {
      "text/plain": [
       "-9.612634751802652"
      ]
     },
     "execution_count": 8,
     "metadata": {},
     "output_type": "execute_result"
    }
   ],
   "source": [
    "from sklearn.metrics import r2_score\n",
    "r2_score(y_test, y_pred)"
   ]
  }
 ],
 "metadata": {
  "colab": {
   "authorship_tag": "ABX9TyMk728gNE/pTx9lH4cBKpqb",
   "collapsed_sections": [],
   "name": "Copy of polynomial_regression.ipynb",
   "provenance": [],
   "toc_visible": true
  },
  "kernelspec": {
   "display_name": "Python 3",
   "language": "python",
   "name": "python3"
  },
  "language_info": {
   "codemirror_mode": {
    "name": "ipython",
    "version": 3
   },
   "file_extension": ".py",
   "mimetype": "text/x-python",
   "name": "python",
   "nbconvert_exporter": "python",
   "pygments_lexer": "ipython3",
   "version": "3.8.3"
  }
 },
 "nbformat": 4,
 "nbformat_minor": 4
}
