{
 "cells": [
  {
   "cell_type": "markdown",
   "metadata": {
    "colab_type": "text",
    "id": "vN99YjPTDena"
   },
   "source": [
    "# Polynomial Regression"
   ]
  },
  {
   "cell_type": "markdown",
   "metadata": {
    "colab_type": "text",
    "id": "ZIx_naXnDyHd"
   },
   "source": [
    "## Importing the libraries"
   ]
  },
  {
   "cell_type": "code",
   "execution_count": 1,
   "metadata": {
    "colab": {},
    "colab_type": "code",
    "id": "FjnmdyPLD2tS"
   },
   "outputs": [],
   "source": [
    "import numpy as np\n",
    "import matplotlib.pyplot as plt\n",
    "import pandas as pd"
   ]
  },
  {
   "cell_type": "markdown",
   "metadata": {
    "colab_type": "text",
    "id": "6c8YExmOD5x5"
   },
   "source": [
    "## Importing the dataset"
   ]
  },
  {
   "cell_type": "code",
   "execution_count": 2,
   "metadata": {
    "colab": {},
    "colab_type": "code",
    "id": "nQOdXhjXD_AE"
   },
   "outputs": [],
   "source": [
    "dataset = pd.read_csv('Real_estate.csv')\n",
    "X = dataset.iloc[:, :-1].values\n",
    "y = dataset.iloc[:, -1].values"
   ]
  },
  {
   "cell_type": "markdown",
   "metadata": {
    "colab_type": "text",
    "id": "Ud_1XTb28iXH"
   },
   "source": [
    "## Splitting the dataset into the Training set and Test set"
   ]
  },
  {
   "cell_type": "code",
   "execution_count": 3,
   "metadata": {
    "colab": {},
    "colab_type": "code",
    "id": "bUib_pbl8ipB"
   },
   "outputs": [],
   "source": [
    "from sklearn.model_selection import train_test_split\n",
    "X_train, X_test, y_train, y_test = train_test_split(X, y, test_size = 0.2, random_state = 0)"
   ]
  },
  {
   "cell_type": "markdown",
   "metadata": {
    "colab_type": "text",
    "id": "Rb5nWuSHEfBV"
   },
   "source": [
    "## Training the Polynomial Regression model on the Training set"
   ]
  },
  {
   "cell_type": "code",
   "execution_count": 4,
   "metadata": {
    "colab": {},
    "colab_type": "code",
    "id": "HYplp4pTEm0O"
   },
   "outputs": [
    {
     "data": {
      "text/plain": [
       "LinearRegression()"
      ]
     },
     "execution_count": 4,
     "metadata": {},
     "output_type": "execute_result"
    }
   ],
   "source": [
    "from sklearn.preprocessing import PolynomialFeatures\n",
    "from sklearn.linear_model import LinearRegression\n",
    "poly_reg = PolynomialFeatures(degree = 4)\n",
    "X_poly = poly_reg.fit_transform(X_train)\n",
    "regressor = LinearRegression()\n",
    "regressor.fit(X_poly, y_train)"
   ]
  },
  {
   "cell_type": "markdown",
   "metadata": {
    "colab_type": "text",
    "id": "pzF3BRps9nlk"
   },
   "source": [
    "## Predicting the Test set results"
   ]
  },
  {
   "cell_type": "code",
   "execution_count": 5,
   "metadata": {
    "colab": {},
    "colab_type": "code",
    "id": "36aFLFBK9pMk"
   },
   "outputs": [
    {
     "name": "stdout",
     "output_type": "stream",
     "text": [
      "[[ 49.07  45.3 ]\n",
      " [  9.08  14.4 ]\n",
      " [ 42.89  46.  ]\n",
      " [ -1.37  15.6 ]\n",
      " [ 44.82  50.2 ]\n",
      " [ 42.84  38.1 ]\n",
      " [ 36.22  48.5 ]\n",
      " [ 37.06  41.4 ]\n",
      " [ 49.13  51.6 ]\n",
      " [ 45.66  40.1 ]\n",
      " [ 40.47  42.  ]\n",
      " [ 33.22  42.4 ]\n",
      " [ 44.42  28.5 ]\n",
      " [ 36.84  39.1 ]\n",
      " [ 52.26  53.7 ]\n",
      " [ 42.75  36.8 ]\n",
      " [ 38.14  40.6 ]\n",
      " [ 46.17  55.2 ]\n",
      " [ 32.38  39.3 ]\n",
      " [ 37.32  44.3 ]\n",
      " [ 53.91  53.5 ]\n",
      " [ 31.28  25.3 ]\n",
      " [ 26.97  22.8 ]\n",
      " [ 55.69  51.7 ]\n",
      " [ 53.17  45.5 ]\n",
      " [ 37.03  34.4 ]\n",
      " [ 37.6   31.6 ]\n",
      " [ 24.    25.9 ]\n",
      " [ 47.73  49.5 ]\n",
      " [-73.63  24.7 ]\n",
      " [ 44.91  51.7 ]\n",
      " [ 23.93  29.7 ]\n",
      " [ 54.52  45.4 ]\n",
      " [ 36.94  50.5 ]\n",
      " [ 35.09  26.5 ]\n",
      " [ 35.07  30.1 ]\n",
      " [ 38.81  46.1 ]\n",
      " [ 30.9   28.9 ]\n",
      " [ 50.49  54.4 ]\n",
      " [ 12.2   15.  ]\n",
      " [ 52.24  44.9 ]\n",
      " [ 40.22  29.8 ]\n",
      " [ 26.84  23.6 ]\n",
      " [ 37.81  48.  ]\n",
      " [ 10.52  16.7 ]\n",
      " [ 37.93  40.9 ]\n",
      " [ 40.64  40.2 ]\n",
      " [  6.1   12.9 ]\n",
      " [ 23.53  21.3 ]\n",
      " [ 49.61  62.1 ]\n",
      " [ 51.14  63.9 ]\n",
      " [ 28.07  40.3 ]\n",
      " [ 33.14  42.2 ]\n",
      " [ 15.76  19.1 ]\n",
      " [ 29.09  28.4 ]\n",
      " [ 39.9   28.5 ]\n",
      " [ 51.18  60.7 ]\n",
      " [ 43.04  37.5 ]\n",
      " [ 43.01  39.3 ]\n",
      " [ 24.96  28.8 ]\n",
      " [ 33.43  42.3 ]\n",
      " [ 36.21  44.3 ]\n",
      " [ 44.66  42.6 ]\n",
      " [ 53.1   57.4 ]\n",
      " [ 34.39  42.2 ]\n",
      " [ 23.24  25.7 ]\n",
      " [ 22.08  13.2 ]\n",
      " [ 21.27  27.  ]\n",
      " [ 70.21  56.2 ]\n",
      " [ 44.54  38.3 ]\n",
      " [ 18.27  20.8 ]\n",
      " [ 61.33  43.1 ]\n",
      " [ 34.53  78.3 ]\n",
      " [ 29.38  20.9 ]\n",
      " [ 44.21  32.5 ]\n",
      " [ 29.36  33.4 ]\n",
      " [ 16.35  32.1 ]\n",
      " [-23.42  19.2 ]\n",
      " [ 49.79  53.  ]\n",
      " [ 36.64  38.2 ]\n",
      " [ 47.56  46.7 ]\n",
      " [ 29.8   24.6 ]\n",
      " [ 42.75  36.2 ]]\n"
     ]
    }
   ],
   "source": [
    "y_pred = regressor.predict(poly_reg.transform(X_test))\n",
    "np.set_printoptions(precision=2)\n",
    "print(np.concatenate((y_pred.reshape(len(y_pred),1), y_test.reshape(len(y_test),1)),1))"
   ]
  },
  {
   "cell_type": "markdown",
   "metadata": {
    "colab_type": "text",
    "id": "Fz1uTlWV919-"
   },
   "source": [
    "## Evaluating the Model Performance"
   ]
  },
  {
   "cell_type": "code",
   "execution_count": 6,
   "metadata": {
    "colab": {},
    "colab_type": "code",
    "id": "xvZQ_4W893-e"
   },
   "outputs": [
    {
     "data": {
      "text/plain": [
       "-0.24591619164176537"
      ]
     },
     "execution_count": 6,
     "metadata": {},
     "output_type": "execute_result"
    }
   ],
   "source": [
    "from sklearn.metrics import r2_score\n",
    "r2_score(y_test, y_pred)"
   ]
  },
  {
   "cell_type": "code",
   "execution_count": null,
   "metadata": {},
   "outputs": [],
   "source": []
  }
 ],
 "metadata": {
  "colab": {
   "authorship_tag": "ABX9TyMk728gNE/pTx9lH4cBKpqb",
   "collapsed_sections": [],
   "name": "Copy of polynomial_regression.ipynb",
   "provenance": [],
   "toc_visible": true
  },
  "kernelspec": {
   "display_name": "Python 3",
   "language": "python",
   "name": "python3"
  },
  "language_info": {
   "codemirror_mode": {
    "name": "ipython",
    "version": 3
   },
   "file_extension": ".py",
   "mimetype": "text/x-python",
   "name": "python",
   "nbconvert_exporter": "python",
   "pygments_lexer": "ipython3",
   "version": "3.8.3"
  }
 },
 "nbformat": 4,
 "nbformat_minor": 4
}
